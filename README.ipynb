{
 "cells": [
  {
   "cell_type": "markdown",
   "metadata": {},
   "source": [
    "## Progetto Sistemi Informativi\n",
    "### Sviluppo di un Modello di Regressione e Web App per la Predizione dei Prezzi Immobiliari\n",
    "In questo progetto sono stati sviluppati due modelli di regressione Random Forest per prevedere i prezzi immobiliari in una determinata zona geografica. Entrambi i modelli sono stati addestrati utilizzando il dataset Real Estate Valuation, che raccoglie informazioni sul mercato immobiliare del distretto di Xindian, nella città di New Taipei, Taiwan. L'obiettivo principale è stimare il prezzo medio di una casa, misurato in dollari taiwanesi per ping (un'unità di misura taiwanese).\n",
    "\n",
    "Il dataset utilizzato è composto da 6 variabili e 414 istanze, senza valori mancanti e con tutte le variabili numeriche. Anche in presenza di valori mancanti o variabili categoriche, non sarebbe stato necessario applicare un processo di preprocessing complesso, grazie alla natura del modello Random Forest.\n",
    "\n",
    "Le variabili del dataset possono essere suddivise in base al loro impatto sul prezzo delle case:\n",
    "\n",
    "Latitudine e Longitudine: influenzano il prezzo in base alla posizione geografica della casa.\n",
    "\n",
    "Età della Casa, Distanza dalla Stazione MRT e Numero di Minimarket nelle Vicinanze: sono fattori che influenzano la domanda e, di conseguenza, il valore degli immobili.\n",
    "\n",
    "Il Modello 1 si concentra esclusivamente sulla posizione geografica della casa, utilizzando le variabili di latitudine e longitudine per effettuare previsioni. Il Modello 2, invece, sfrutta le variabili rimanenti, come l’età della casa, la distanza dalle stazioni MRT (Mass Rapid Transit) e la presenza di minimarket nelle vicinanze.\n",
    "\n",
    "\n",
    "\n",
    "### Interfaccia Web\n",
    "Per rendere facilmente accessibili e utilizzabili i modelli, è stata creata un'interfaccia interattiva tramite Streamlit. L'utente può scegliere quale modello utilizzare e inserire le informazioni richieste (ad esempio, se si sceglie il primo modello vanno inserite latitudine e longitudine per poter ottenere la stima richiesta). Una volta inseriti i dati, viene restituita la stima del prezzo della casa in base al modello selezionato.\n",
    "\n",
    "### Tableau\n",
    "Attraverso il seguente link è possibile accedere a una mappa interattiva che mostra i prezzi originali presenti nel dataset. Le istanze sono colorate con una sfumatura di blu proporzionale al prezzo della casa.\n",
    "https://public.tableau.com/app/profile/emma.barrow/viz/SistemiInformativi_17436976751750/Foglio1?publish=yes\n",
    "\n"
   ]
  }
 ],
 "metadata": {
  "language_info": {
   "name": "python"
  }
 },
 "nbformat": 4,
 "nbformat_minor": 2
}
